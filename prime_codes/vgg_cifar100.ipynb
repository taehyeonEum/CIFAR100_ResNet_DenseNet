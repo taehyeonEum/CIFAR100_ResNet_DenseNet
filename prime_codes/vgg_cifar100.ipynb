{
 "cells": [
  {
   "cell_type": "code",
   "execution_count": 4,
   "metadata": {},
   "outputs": [],
   "source": [
    "import torch\n",
    "import torch.nn as nn\n",
    "import torch.optim as optim\n",
    "\n",
    "import torchvision\n",
    "import torchvision.transforms as tf\n",
    "from torchvision.datasets import CIFAR100\n",
    "\n",
    "import matplotlib.pyplot as plt\n",
    "import numpy as np\n",
    "%matplotlib inline\n",
    "\n",
    "from typing import Union, List, Dict, Any, Optional, cast\n",
    "import torchvision.models.vgg as vgg\n",
    "\n",
    "import gc"
   ]
  },
  {
   "cell_type": "code",
   "execution_count": null,
   "metadata": {},
   "outputs": [],
   "source": [
    "#stats is used for normalization\n",
    "stat1 = torch.Tensor([0.5071, 0.4865, 0.4409])\n",
    "stat2 = torch.Tensor([0.2009, 0.1984, 0.2023])\n",
    "stats = stat1, stat2\n",
    "stats\n",
    "\n",
    "#torchvision.transforms.Compose\n",
    "train_transforms = tf.Compose([\n",
    "    tf.RandomHorizontalFlip(),\n",
    "    tf.RandomCrop(32, padding=4, padding_mode='reflect'),\n",
    "    tf.ToTensor(),\n",
    "    tf.Normalize(*stats, inplace=True)\n",
    "])\n",
    "test_transforms = tf.Compose([\n",
    "    tf.ToTensor(),\n",
    "    tf.Normalize(*stats)\n",
    "])\n",
    "\n",
    "#make custom cifar100 dataset\n",
    "train_data = CIFAR100(download=True, train=True, root=\"../data\", transform=train_transforms)\n",
    "test_data = CIFAR100(download=True, train=False, root='../data', transform=test_transforms)"
   ]
  },
  {
   "cell_type": "markdown",
   "metadata": {},
   "source": [
    "<h3><u><b> VGG CLASS"
   ]
  },
  {
   "cell_type": "code",
   "execution_count": 6,
   "metadata": {},
   "outputs": [],
   "source": [
    "def make_layers(cfg: List[Union[str, int]], batch_norm: bool = False) -> nn.Sequential:\n",
    "    layers: List[nn.Module] = []\n",
    "    in_channels = 3\n",
    "    for v in cfg:\n",
    "        if v == \"M\":\n",
    "            layers += [nn.MaxPool2d(kernel_size=2, stride=2)]\n",
    "        else:\n",
    "            v = cast(int, v)\n",
    "            conv2d = nn.Conv2d(in_channels, v, kernel_size=3, padding=1)\n",
    "            if batch_norm:\n",
    "                layers += [conv2d, nn.BatchNorm2d(v), nn.ReLU(inplace=True)]\n",
    "            else:\n",
    "                layers += [conv2d, nn.ReLU(inplace=True)]\n",
    "            in_channels = v\n",
    "    return nn.Sequential(*layers)\n",
    "\n",
    "class VGG(nn.Module):\n",
    "    def __init__(self, features, num_classes=1000, init_weights=True):\n",
    "        super(VGG, self).__init__()\n",
    "        \n",
    "        self.features = features #Convolution layers which I'm going to design\n",
    "        \n",
    "        # self.avgpool = nn.AdaptiveAvgPool2d((7, 7)) #input image size is already small, so I'm not going to use AAP2d\n",
    "        \n",
    "        self.classifier = nn.Sequential(\n",
    "            nn.Linear(512 * 4 * 4, 4096),\n",
    "            nn.ReLU(True),\n",
    "            nn.Dropout(),\n",
    "            nn.Linear(4096, 4096),\n",
    "            nn.ReLU(True),\n",
    "            nn.Dropout(),\n",
    "            nn.Linear(4096, num_classes),\n",
    "        )#FC layer\n",
    "        \n",
    "        if init_weights:\n",
    "            self._initialize_weights()\n",
    "\n",
    "    \n",
    "    def forward(self, x):\n",
    "        x = self.features(x) #Convolution \n",
    "        x = x.view(x.size(0), -1) # flatten!\n",
    "        x = self.classifier(x) #FC layer\n",
    "        return x\n",
    "\n",
    "    def _initialize_weights(self):\n",
    "        for m in self.modules(): \n",
    "            if isinstance(m, nn.Conv2d):\n",
    "                nn.init.kaiming_normal_(m.weight, mode='fan_out', nonlinearity='relu')\n",
    "                if m.bias is not None:\n",
    "                    nn.init.constant_(m.bias, 0)\n",
    "            elif isinstance(m, nn.BatchNorm2d):\n",
    "                nn.init.constant_(m.weight, 1)\n",
    "                nn.init.constant_(m.bias, 0)\n",
    "            elif isinstance(m, nn.Linear):\n",
    "                nn.init.normal_(m.weight, 0, 0.01)\n",
    "                nn.init.constant_(m.bias, 0)"
   ]
  },
  {
   "cell_type": "code",
   "execution_count": 7,
   "metadata": {},
   "outputs": [],
   "source": [
    "def get_lr(optimizer):\n",
    "    for param_group in optimizer.param_groups:\n",
    "        return param_group['lr']"
   ]
  },
  {
   "cell_type": "code",
   "execution_count": 8,
   "metadata": {},
   "outputs": [],
   "source": [
    "def train_model(_model, _epoch, _train_data_loader, _optimizer, _lr_sche, _creterion, _array_cost, _array_accu, _array_lr):\n",
    "    train_cost_sum = 0\n",
    "    corrects = 0\n",
    "    len_dataloader = len(_train_data_loader)\n",
    "\n",
    "    print('----------------train----------------')\n",
    "    for batch_idx, data in enumerate(_train_data_loader):\n",
    "        x, y = data\n",
    "        x = x.to(DEVICE)\n",
    "        y = y.to(DEVICE)\n",
    "\n",
    "        _optimizer.zero_grad()\n",
    "        prediction = _model(x)\n",
    "        corrects += (prediction.argmax(1) == y).sum().item()\n",
    "        cost = creterion(prediction, y)\n",
    "        cost.backward()\n",
    "        _optimizer.step()\n",
    "        _lr_sche.step()\n",
    "        _array_lr.append(get_lr(_optimizer))\n",
    "\n",
    "        train_cost_sum += cost.item()\n",
    "        if (batch_idx + 1) % (len_dataloader//3) == 0:\n",
    "            train_cost_avg = train_cost_sum / (batch_idx + 1)\n",
    "            print('Epoch:{:2d}/{} batch_idx:{:3d} Train Cost:{:2.6f}'\n",
    "            .format(_epoch + 1, TRAIN_EPOCHS, batch_idx + 1, train_cost_avg))\n",
    "    \n",
    "    accuracy = (corrects / len(train_data)) * 100\n",
    "    print('Epoch:{:2d}/{} batch_idx:{:3d} Train Accuracy:{:2.6f}'\n",
    "            .format(_epoch + 1, TRAIN_EPOCHS, batch_idx + 1, accuracy))\n",
    "    _array_cost.append(train_cost_sum/len(_train_data_loader))\n",
    "    _array_accu.append(accuracy)\n",
    "        "
   ]
  },
  {
   "cell_type": "code",
   "execution_count": 9,
   "metadata": {},
   "outputs": [],
   "source": [
    "def test_model(_model, _epoch, _test_data_loader, _creterion, _array_cost, _array_accu):\n",
    "    test_cost_avg = 0\n",
    "    corrects = 0\n",
    "    print('----------------test----------------')\n",
    "    for batch_idx, data in enumerate(_test_data_loader):\n",
    "        x, y = data\n",
    "        x = x.to(DEVICE)\n",
    "        y = y.to(DEVICE)\n",
    "        prediction = _model(x)\n",
    "        corrects += (prediction.argmax(1) == y).sum().item()\n",
    "        cost = _creterion(prediction, y)\n",
    "        test_cost_avg += cost.item()/len(test_data_loader)\n",
    "\n",
    "    accuracy = (corrects / len(test_data)) * 100\n",
    "    print('Epoch:{:2d}/{} Test Cost:{:2.6f} Test Accuracy:{:.4f}'\n",
    "            .format(_epoch, TRAIN_EPOCHS, test_cost_avg, accuracy))\n",
    "    _array_cost.append(test_cost_avg)\n",
    "    _array_accu.append(accuracy)\n",
    "\n",
    "    return test_cost_avg, accuracy"
   ]
  },
  {
   "cell_type": "code",
   "execution_count": null,
   "metadata": {},
   "outputs": [],
   "source": [
    "BATCH_SIZE = 128\n",
    "train_data_loader = torch.utils.data.DataLoader(train_data, BATCH_SIZE, num_workers=4, pin_memory=True, shuffle=True, drop_last=True)\n",
    "test_data_loader = torch.utils.data.DataLoader(test_data, BATCH_SIZE, num_workers=4, pin_memory=True)\n",
    "\n",
    "print('train data set shape', len(train_data))\n",
    "print('test data set shape', len(test_data))\n",
    "\n",
    "for data in train_data_loader:\n",
    "    x, y = data\n",
    "    print('x shape', x.shape)\n",
    "    print('y shape', y.shape)\n",
    "\n",
    "    break\n",
    "train_iteration = len(train_data)/BATCH_SIZE\n",
    "\n",
    "print('data_loader length', len(train_data_loader))"
   ]
  },
  {
   "cell_type": "markdown",
   "metadata": {},
   "source": [
    "<h4><b><u> Dictionary for model's layer configuration"
   ]
  },
  {
   "cell_type": "code",
   "execution_count": 11,
   "metadata": {},
   "outputs": [],
   "source": [
    "cfgs = { \n",
    "    'A': [64, 'M', 128, 'M', 256, 256, 'M', 512, 512, 'M', 512, 512, 'M'], #8(conv) + 3(fc) =11 == vgg11\n",
    "    'B': [64, 64, 'M', 128, 128, 'M', 256, 256, 'M', 512, 512, 'M', 512, 512, 'M'], # 10 + 3 = vgg 13\n",
    "    'D': [64, 64, 'M', 128, 128, 'M', 256, 256, 256, 'M', 512, 512, 512, 'M', 512, 512, 512, 'M'], #13 + 3 = vgg 16\n",
    "    'E': [64, 64, 'M', 128, 128, 'M', 256, 256, 256, 256, 'M', 512, 512, 512, 512, 'M', 512, 512, 512, 512, 'M'], # 16 +3 =vgg 19\n",
    "    'custom19' : [32,32,64,64,128,128,128,'M',256,256,256,256,256,'M',512, 512, 512,512,'M']\n",
    "}"
   ]
  },
  {
   "cell_type": "code",
   "execution_count": null,
   "metadata": {},
   "outputs": [],
   "source": [
    "DEVICE = 'cuda:0'    #if you can't use GPU edit as 'cpu'\n",
    "LEARNING_RATE = 1e-2\n",
    "TRAIN_EPOCHS = 120\n",
    "cfg = 'custom19'\n",
    "nb_layer = cfg[-2:]\n",
    "\n",
    "model = VGG(features=make_layers(cfgs[cfg]), num_classes=100, init_weights=True)\n",
    "model = model.to(DEVICE)\n",
    "optimizer = optim.SGD(model.parameters(), lr=LEARNING_RATE, momentum=0.9)\n",
    "lr_sche = optim.lr_scheduler.StepLR(optimizer, step_size=(len(train_data_loader)*10), gamma=0.8)\n",
    "creterion = nn.CrossEntropyLoss().to(DEVICE)\n",
    "train_cost_arr = []\n",
    "train_accu_arr = []\n",
    "train_lr_arr = []\n",
    "test_cost_arr = []\n",
    "test_accu_arr = []\n",
    "x_array = []\n",
    "\n",
    "for epoch in range(TRAIN_EPOCHS):\n",
    "    x_array.append(epoch + 1)\n",
    "    train_cost_sum = 0\n",
    "    test_cost_avg = 0\n",
    "\n",
    "    model.train()\n",
    "    train_model(model, epoch, train_data_loader, optimizer, lr_sche, creterion, train_cost_arr, train_accu_arr, train_lr_arr)\n",
    "    \n",
    "    model.eval()\n",
    "    test_model(model, epoch, test_data_loader, creterion, test_cost_arr, test_accu_arr)\n",
    "\n",
    "    #ploting graphs per one epoch \n",
    "    plt.subplot(1,2,1)\n",
    "    plt.plot(x_array, train_cost_arr, 'r', label='train cost')\n",
    "    plt.plot(x_array, test_cost_arr, 'g', label='test cost')\n",
    "    plt.xlabel('EPOCH')\n",
    "    plt.ylabel('Cost')\n",
    "    plt.title('Train(r)/Test(g) Cost vs Epoch')\n",
    "    \n",
    "    plt.subplot(1,2,2)\n",
    "    plt.plot(x_array, train_accu_arr, 'r', label='train accu')\n",
    "    plt.plot(x_array, test_accu_arr, 'g', label='test accu')\n",
    "    plt.xlabel('EPOCH')\n",
    "    plt.ylabel('ACCURACY')\n",
    "    plt.title('Train(r)/Test(g) ACCURACY vs Epoch')\n",
    "    \n",
    "    plt.rcParams[\"figure.figsize\"] = (17,5)\n",
    "    plt.rcParams['axes.grid'] = True \n",
    "    plt.show()\n",
    "\n",
    "    #plot lr graph per one Epoch\n",
    "    # plt.plot([x for x in range(len(train_lr_arr))], train_lr_arr, 'b', label='lr per iteration')\n",
    "    # plt.xlabel('Iteration')\n",
    "    # plt.ylabel('Learning Rate')\n",
    "    # plt.title('LR per Iteration')\n",
    "    # plt.show()\n",
    "\n",
    "\n",
    "torch.save(model, '../trained_models/vgg{}_epoch{}_accuLB{:2.2f}|{:2.2f}.pt'.format(nb_layer, TRAIN_EPOCHS, test_accu_arr[-1], max(test_accu_arr)))"
   ]
  },
  {
   "cell_type": "markdown",
   "metadata": {},
   "source": [
    "<h4><b><u>Plot last graph"
   ]
  },
  {
   "cell_type": "code",
   "execution_count": 14,
   "metadata": {},
   "outputs": [
    {
     "data": {
      "image/png": "[encoded data removed]",
      "text/plain": [
       "<Figure size 1224x360 with 2 Axes>"
      ]
     },
     "metadata": {
      "needs_background": "light"
     },
     "output_type": "display_data"
    },
    {
     "data": {
      "image/png": "[encoded data removed]",
      "text/plain": [
       "<Figure size 1224x360 with 1 Axes>"
      ]
     },
     "metadata": {
      "needs_background": "light"
     },
     "output_type": "display_data"
    }
   ],
   "source": [
    "plt.rcParams[\"figure.figsize\"] = (17,5)\n",
    "plt.rcParams['axes.grid'] = True \n",
    "\n",
    "plt.subplot(1,2,1)\n",
    "plt.plot(x_array, train_cost_arr, 'r', label='train cost')\n",
    "plt.plot(x_array, test_cost_arr, 'g', label='test cost')\n",
    "plt.xlabel('EPOCH')\n",
    "plt.ylabel('Cost')\n",
    "plt.title('Train(r)/Test(g) Cost vs Epoch')\n",
    "\n",
    "plt.subplot(1,2,2)\n",
    "plt.plot(x_array, train_accu_arr, 'r', label='train accu')\n",
    "plt.plot(x_array, test_accu_arr, 'g', label='test accu')\n",
    "plt.xlabel('EPOCH')\n",
    "plt.ylabel('ACCURACY')\n",
    "plt.title('Train(r)/Test(g) ACCURACY vs Epoch')\n",
    "plt.show()\n",
    "\n",
    "plt.plot([x for x in range(len(train_lr_arr))], train_lr_arr, 'b', label='lr per iteration')\n",
    "plt.xlabel('Iteration')\n",
    "plt.ylabel('Learning Rate')\n",
    "plt.title('LR per Iteration')\n",
    "plt.show()"
   ]
  },
  {
   "cell_type": "markdown",
   "metadata": {},
   "source": [
    "<h4><b><u> Codes for testing model with no graph."
   ]
  },
  {
   "cell_type": "code",
   "execution_count": null,
   "metadata": {},
   "outputs": [],
   "source": [
    "DEVICE = 'cuda:0'\n",
    "creterion = nn.CrossEntropyLoss().to(DEVICE)\n",
    "\n",
    "def test_model_no_graph(_model, _test_data_loader, _creterion):\n",
    "    test_cost = 0\n",
    "    test_accu = 0\n",
    "    corrects = 0\n",
    "    _model.eval()\n",
    "    print('----------------test----------------')\n",
    "    for batch_idx, data in enumerate(_test_data_loader):\n",
    "        x, y = data\n",
    "        x = x.to(DEVICE)\n",
    "        y = y.to(DEVICE)\n",
    "        prediction = _model(x)\n",
    "        corrects += (prediction.argmax(1) == y).sum().item()\n",
    "        cost = _creterion(prediction, y).item()\n",
    "        test_cost += cost/len(test_data_loader)\n",
    "        test_accu += corrects / len(test_data)\n",
    "\n",
    "    return test_cost, test_accu\n",
    "\n",
    "model_loaded = torch.load('../trained_models/___model_name___')    \n",
    "model_loaded = model_loaded.to(DEVICE)\n",
    "test_cost, test_accuracy = test_model_no_graph(model_loaded, test_data_loader, creterion)\n",
    "print('Test Cost: ', test_cost, '\\nTest Accuracy', test_accuracy)"
   ]
  },
  {
   "cell_type": "markdown",
   "metadata": {},
   "source": [
    "<h3> <u> <b> Clear GPU"
   ]
  },
  {
   "cell_type": "code",
   "execution_count": null,
   "metadata": {},
   "outputs": [],
   "source": [
    "#I recommand to restart kernel\n",
    "#The codes below is the next best thing.\n",
    "\n",
    "gc.collect()\n",
    "torch.cuda.empty_cache()"
   ]
  }
 ],
 "metadata": {
  "interpreter": {
   "hash": "90a47c747751427ee637d7be39710af27f0dff34aee29dbd9318d8360e43005a"
  },
  "kernelspec": {
   "display_name": "first_jupyter",
   "language": "python",
   "name": "base"
  },
  "orig_nbformat": 4
 },
 "nbformat": 4,
 "nbformat_minor": 2
}
